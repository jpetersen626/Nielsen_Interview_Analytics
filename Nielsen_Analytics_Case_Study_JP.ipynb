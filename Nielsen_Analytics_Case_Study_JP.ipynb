{
 "cells": [
  {
   "cell_type": "markdown",
   "id": "45b8250f-dcbb-457e-a6d4-7678cfff10ec",
   "metadata": {},
   "source": [
    "# Nielsen Data Science Case Study - Analytics "
   ]
  },
  {
   "cell_type": "markdown",
   "id": "9ec37c22-b808-41ef-b523-b0ac86c5c6b9",
   "metadata": {},
   "source": [
    "By Jackie Petersen"
   ]
  },
  {
   "cell_type": "code",
   "execution_count": 1,
   "id": "864bda15-2b18-4aa1-a42d-1582df34039e",
   "metadata": {},
   "outputs": [],
   "source": [
    "# imports\n",
    "import pandas as pd\n",
    "import numpy as np\n",
    "import matplotlib.pyplot as plt\n",
    "import seaborn as sns"
   ]
  },
  {
   "cell_type": "markdown",
   "id": "e5622f0f-bc7d-40e1-aa20-59bafc8c3efb",
   "metadata": {
    "tags": []
   },
   "source": [
    "## Part One: Population Statistics"
   ]
  },
  {
   "cell_type": "markdown",
   "id": "2c78bb32-dbdf-4fc4-bcb4-b340ba062368",
   "metadata": {
    "jp-MarkdownHeadingCollapsed": true,
    "tags": []
   },
   "source": [
    "1. Import and clean the data set."
   ]
  },
  {
   "cell_type": "code",
   "execution_count": null,
   "id": "a1099f35-a876-48d0-983e-5b2949c19418",
   "metadata": {},
   "outputs": [],
   "source": []
  },
  {
   "cell_type": "markdown",
   "id": "1cd5f77f-90ed-4e71-96ad-65f4b18e465b",
   "metadata": {},
   "source": [
    "2. Please provide a table of summary statistics for the total population for each state (not county)."
   ]
  },
  {
   "cell_type": "code",
   "execution_count": null,
   "id": "0a824ce9-9d35-4fd0-898e-e037ce935a7c",
   "metadata": {},
   "outputs": [],
   "source": []
  },
  {
   "cell_type": "markdown",
   "id": "03890ffa-5eec-455d-b153-11ade12b805f",
   "metadata": {},
   "source": [
    "3. Choose 5 counties to analyze further. These should be representative of the country.\n",
    "     - Describe how/ why you chose these 5 counties to analyze.\n",
    "     - Please provide visualizations to depict population trends over time.\n",
    "     - Have there been significant shifts in demographic trends for any of these 5 counties across the 6 years? If so, please describe."
   ]
  },
  {
   "cell_type": "code",
   "execution_count": null,
   "id": "85cac2bb-326e-4467-97da-705c1d6c39c9",
   "metadata": {},
   "outputs": [],
   "source": []
  },
  {
   "cell_type": "markdown",
   "id": "46c3d793-bcb9-433c-8756-e2a76c86b2d8",
   "metadata": {},
   "source": [
    "4. If you were to continue analyzing all of the counties provided in this data set, what would your next steps be?"
   ]
  },
  {
   "cell_type": "code",
   "execution_count": null,
   "id": "9c9ae5b7-5c65-4020-ad15-6d9287f4be27",
   "metadata": {},
   "outputs": [],
   "source": []
  },
  {
   "cell_type": "markdown",
   "id": "09584665-995e-4e69-9718-671e547cde5d",
   "metadata": {
    "tags": []
   },
   "source": [
    "## Part Two: Top 10 Best Cities to Live In"
   ]
  },
  {
   "cell_type": "markdown",
   "id": "9b955589-875b-4880-8dc2-927691db5ffd",
   "metadata": {},
   "source": [
    "1. Import and clean the data set (if needed)."
   ]
  },
  {
   "cell_type": "code",
   "execution_count": null,
   "id": "b8535455-bf0a-4f13-8784-276043940132",
   "metadata": {},
   "outputs": [],
   "source": []
  },
  {
   "cell_type": "markdown",
   "id": "76f04c54-dc81-43f2-a604-1409639bc697",
   "metadata": {},
   "source": [
    "2. Merge this data set with the US Population data from part one. The resulting data set should contain information for only the counties mentioned in the top_ten_small_cities_US file, but should contain data for all 6 years (2010 through 2015)."
   ]
  },
  {
   "cell_type": "code",
   "execution_count": null,
   "id": "60afaf83-7cb7-4730-93f6-c8c7787f374b",
   "metadata": {},
   "outputs": [],
   "source": []
  },
  {
   "cell_type": "markdown",
   "id": "a7685241-0a31-493c-89bf-1c1d27058d14",
   "metadata": {},
   "source": [
    "3. What percent of the total population for each county resides in each of the cities on the list? (for example, what percent of Hamilton County resides in Carmel, IN?)"
   ]
  },
  {
   "cell_type": "code",
   "execution_count": null,
   "id": "a499fe24-5f72-4eb0-a148-2da10b1ed3c9",
   "metadata": {},
   "outputs": [],
   "source": []
  },
  {
   "cell_type": "markdown",
   "id": "b1f6224b-72d2-4d3b-b9db-d4e9219ce56a",
   "metadata": {},
   "source": [
    "4. Are there any shared population characteristics of these counties that made the Top Ten list? Please explain."
   ]
  },
  {
   "cell_type": "code",
   "execution_count": null,
   "id": "0e72bc1c-8cc2-4019-881b-d22e30589dd9",
   "metadata": {},
   "outputs": [],
   "source": []
  },
  {
   "cell_type": "markdown",
   "id": "e1b71efa-a279-4b3e-baf5-d339d657dbf8",
   "metadata": {},
   "source": [
    "5. Please provide at least one visualization of Fairfax County, Virginia. This should include an indication of the year(s) any of the cities in this county made it in CNN’s Top Ten Cities list."
   ]
  },
  {
   "cell_type": "code",
   "execution_count": null,
   "id": "cdede256-04bc-488c-aa12-78da9074c0e1",
   "metadata": {},
   "outputs": [],
   "source": []
  }
 ],
 "metadata": {
  "kernelspec": {
   "display_name": "Python 3 (ipykernel)",
   "language": "python",
   "name": "python3"
  },
  "language_info": {
   "codemirror_mode": {
    "name": "ipython",
    "version": 3
   },
   "file_extension": ".py",
   "mimetype": "text/x-python",
   "name": "python",
   "nbconvert_exporter": "python",
   "pygments_lexer": "ipython3",
   "version": "3.9.7"
  },
  "toc-autonumbering": false
 },
 "nbformat": 4,
 "nbformat_minor": 5
}
